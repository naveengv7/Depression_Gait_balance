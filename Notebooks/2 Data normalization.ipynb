{
 "cells": [
  {
   "cell_type": "markdown",
   "metadata": {},
   "source": [
    "# Predection of Mood (Fatigue and fatigue) by different Balance parameters"
   ]
  },
  {
   "cell_type": "markdown",
   "metadata": {},
   "source": [
    "# Import necessary libraries"
   ]
  },
  {
   "cell_type": "code",
   "execution_count": 1,
   "metadata": {},
   "outputs": [],
   "source": [
    "# import necessary libraries\n",
    "import numpy as np\n",
    "import pandas as pd\n",
    "import matplotlib.pyplot as plt\n",
    "import seaborn as sns\n",
    "import pickle"
   ]
  },
  {
   "cell_type": "markdown",
   "metadata": {},
   "source": [
    "# Import Data from Excel File"
   ]
  },
  {
   "cell_type": "code",
   "execution_count": 8,
   "metadata": {},
   "outputs": [],
   "source": [
    "# Path of Raw Data on the computer\n",
    "DATA_PATH = r'C:\\Users\\ahmed\\Documents\\Depression_Gait_Balance\\Data\\Data_after_imputation_winsoring\\All_Data_After_Imputation_Winsoring.xlsx'\n",
    "EXPORT_PATH = r'C:\\Users\\ahmed\\Documents\\Depression_Gait_Balance\\Data\\Data_after_Scaling\\All_Data_After_Imputation_Winsoring_Scaled.xlsx'\n",
    "EXPORT_PATH2 = r'C:\\Users\\ahmed\\Documents\\Depression_Gait_Balance\\Data\\Data_after_Scaling\\All_Data_After_Imputation_Winsoring_Scaled.plk'\n",
    "# import DATA after having the LABLE (Frist Columen is Y) columnes 2 and 3 are the neuomerical data of predectors form thim Y calculated)\n",
    "df_imput_winsor = pd.read_excel(DATA_PATH)"
   ]
  },
  {
   "cell_type": "markdown",
   "metadata": {},
   "source": [
    "## Data Adjustement"
   ]
  },
  {
   "cell_type": "code",
   "execution_count": 9,
   "metadata": {},
   "outputs": [],
   "source": [
    "df_imput_winsor = df_imput_winsor[df_imput_winsor['Age_A'] <= 36]\n",
    "df_imput_winsor = df_imput_winsor.reset_index()"
   ]
  },
  {
   "cell_type": "markdown",
   "metadata": {},
   "source": [
    "# Data Normalization"
   ]
  },
  {
   "cell_type": "code",
   "execution_count": 10,
   "metadata": {},
   "outputs": [],
   "source": [
    "# Having fixed variables alone (Y variables)\n",
    "df_imput_winsor_scal_X = df_imput_winsor.drop(['CurrentPOMSdepression', 'Depressionsumofquestionsscore', 'Sex'], axis=1)\n",
    "# Store the removed variables to be attached at the end of cleaning prosses\n",
    "cat_data = df_imput_winsor[['CurrentPOMSdepression', 'Depressionsumofquestionsscore','Sex']]\n",
    "# Apply Stander Scaller for the DataFrame (Normalization)\n",
    "from sklearn.preprocessing import Normalizer\n",
    "# # perform a robust scaler transform of the dataset\n",
    "trans = Normalizer()\n",
    "X_imput_winsor_Scaled = trans.fit_transform(df_imput_winsor_scal_X)\n",
    "# convert the array back to a dataframe\n",
    "X_imput_winsor_Scaled = pd.DataFrame(X_imput_winsor_Scaled)\n",
    "X_imput_winsor_Scaled.columns = df_imput_winsor_scal_X.columns\n",
    "# Concatenate Y variabels with X_imput_scaled features in ONE data farme\n",
    "df_imput_winsor_scal = pd.concat([cat_data,X_imput_winsor_Scaled], axis=1)"
   ]
  },
  {
   "cell_type": "markdown",
   "metadata": {},
   "source": [
    "# Export Prossesed Data to PKL file to be used for further analysis"
   ]
  },
  {
   "cell_type": "code",
   "execution_count": 11,
   "metadata": {},
   "outputs": [],
   "source": [
    "# # Export Data \n",
    "df_imput_winsor_scal.to_excel(EXPORT_PATH, index=False)\n",
    "df_imput_winsor_scal.to_pickle(EXPORT_PATH2)"
   ]
  }
 ],
 "metadata": {
  "interpreter": {
   "hash": "40d3a090f54c6569ab1632332b64b2c03c39dcf918b08424e98f38b5ae0af88f"
  },
  "kernelspec": {
   "display_name": "Python 3.8.8 64-bit ('base': conda)",
   "language": "python",
   "name": "python3"
  },
  "language_info": {
   "codemirror_mode": {
    "name": "ipython",
    "version": 3
   },
   "file_extension": ".py",
   "mimetype": "text/x-python",
   "name": "python",
   "nbconvert_exporter": "python",
   "pygments_lexer": "ipython3",
   "version": "3.9.7"
  },
  "orig_nbformat": 4
 },
 "nbformat": 4,
 "nbformat_minor": 2
}
