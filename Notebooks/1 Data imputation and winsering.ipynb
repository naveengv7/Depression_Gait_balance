{
 "cells": [
  {
   "cell_type": "markdown",
   "metadata": {},
   "source": [
    "# Predection of Mood (Fatigue and fatigue) by different Balance parameters"
   ]
  },
  {
   "cell_type": "markdown",
   "metadata": {},
   "source": [
    "# Import necessary libraries"
   ]
  },
  {
   "cell_type": "code",
   "execution_count": null,
   "metadata": {},
   "outputs": [],
   "source": [
    "!git clone https://github.com/naveengv7/Depression_Gait_balance"
   ]
  },
  {
   "cell_type": "code",
   "execution_count": 6,
   "metadata": {},
   "outputs": [],
   "source": [
    "# import necessary libraries\n",
    "import numpy as np\n",
    "import pandas as pd\n",
    "import matplotlib.pyplot as plt\n",
    "import seaborn as sns\n",
    "import pickle"
   ]
  },
  {
   "cell_type": "markdown",
   "metadata": {},
   "source": [
    "# Import Data from Excel File"
   ]
  },
  {
   "cell_type": "code",
   "execution_count": 7,
   "metadata": {},
   "outputs": [],
   "source": [
    "# Path of Raw Data on the computer\n",
    "DATA_PATH = r'/content/Depression_Gait_balance/Data/Raw_Data/All Data.xlsx'\n",
    "EXPORT_PATH = r'/content/Depression_Gait_balance/All_Data_After_Imputation_Winsoring_AB.xlsx'\n",
    "EXPORT_PATH2 = r'/content/Depression_Gait_balance/Data/Data_after_imputation_winsoring/All_Data_After_Imputation_Winsoring.plk'\n",
    "# import DATA after having the LABLE (Frist Columen is Y) columnes 2 and 3 are the neuomerical data of predectors form thim Y calculated)\n",
    "df = pd.read_excel(DATA_PATH)"
   ]
  },
  {
   "cell_type": "markdown",
   "metadata": {},
   "source": [
    "# Remove Missed Data"
   ]
  },
  {
   "cell_type": "code",
   "execution_count": 8,
   "metadata": {},
   "outputs": [],
   "source": [
    "# Data imputation to repalce missing data with relivant data point\n",
    "from sklearn.experimental import enable_iterative_imputer\n",
    "from sklearn.impute import IterativeImputer\n",
    "# create an object for KNNImputer\n",
    "imputer = IterativeImputer()\n",
    "df_imput = imputer.fit_transform(df)\n",
    "# Change Data From np.array to pd.DataFrame\n",
    "df_imput = pd.DataFrame(df_imput)\n",
    "# Rename all columes from 01234 to original columes names\n",
    "df_imput.columns = df.columns"
   ]
  },
  {
   "cell_type": "markdown",
   "metadata": {},
   "source": [
    "# Remove Outliers form data"
   ]
  },
  {
   "cell_type": "code",
   "execution_count": 9,
   "metadata": {},
   "outputs": [],
   "source": [
    "# Data Winsorizing (Remove of Outliers) \n",
    "from scipy.stats.mstats import winsorize\n",
    "lower_limit = 0.0\n",
    "for j in df:\n",
    "    df_imput[j] = winsorize(df_imput[j],limits = [lower_limit, 0.05])\n",
    "df_imput_wins = df_imput"
   ]
  },
  {
   "cell_type": "markdown",
   "metadata": {},
   "source": [
    "# Export imputated and winsored data"
   ]
  },
  {
   "cell_type": "code",
   "execution_count": 10,
   "metadata": {},
   "outputs": [],
   "source": [
    "df_imput_wins.to_excel(EXPORT_PATH, index=False)\n",
    "df_imput_wins.to_pickle(EXPORT_PATH2)"
   ]
  }
 ],
 "metadata": {
  "interpreter": {
   "hash": "40d3a090f54c6569ab1632332b64b2c03c39dcf918b08424e98f38b5ae0af88f"
  },
  "kernelspec": {
   "display_name": "Python 3 (ipykernel)",
   "language": "python",
   "name": "python3"
  },
  "language_info": {
   "codemirror_mode": {
    "name": "ipython",
    "version": 3
   },
   "file_extension": ".py",
   "mimetype": "text/x-python",
   "name": "python",
   "nbconvert_exporter": "python",
   "pygments_lexer": "ipython3",
   "version": "3.10.4"
  }
 },
 "nbformat": 4,
 "nbformat_minor": 2
}
